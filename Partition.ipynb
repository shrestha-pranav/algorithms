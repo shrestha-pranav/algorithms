{
 "cells": [
  {
   "cell_type": "code",
   "execution_count": null,
   "metadata": {},
   "outputs": [],
   "source": [
    "#default_exp partition\n",
    "# https://www.reddit.com/r/dailyprogrammer/comments/jfcuz5/20201021_challenge_386_intermediate_partition/"
   ]
  },
  {
   "cell_type": "markdown",
   "metadata": {},
   "source": [
    "# Challenge\n",
    "\n",
    "- Compute `p(666)` (26-digit, with sum of digits=127)\n",
    "- `p(66)=2323520`\n",
    "\n",
    "# Sequence formula\n",
    "\n",
    "- `seq1 = alternate ({1,2,3,4,5,...}, {3,5,7,9,11...})`\n",
    "- `seq2`\n",
    "  - `seq2[0] = 1`\n",
    "  - `seq2[i+1] = seq2[i] + seq1[i]`\n",
    "- `seq3 = {1, 1, -1, -1, 1, 1, -1, -1, ...}`\n",
    "\n",
    "- `p(n) = \\sum_{i=1}^{n} p(n-seq2[i]) * seq3[i]`\n",
    "  - `p(n) = 0, n < 0`\n",
    "  \n",
    "`p(n) = 1, 1, 2, 3, 5, 7, 11, 15, 22, 30, 42, 56, ...`"
   ]
  },
  {
   "cell_type": "code",
   "execution_count": null,
   "metadata": {},
   "outputs": [],
   "source": [
    "#export\n",
    "import functools"
   ]
  },
  {
   "cell_type": "code",
   "execution_count": null,
   "metadata": {},
   "outputs": [],
   "source": [
    "#export\n",
    "def partition_seq1():\n",
    "    # Alternate between {1, 2, 3, 4, ...} and {3, 5, 7, 9, ...}\n",
    "    i, j = 1, 3\n",
    "    while True:\n",
    "        yield i\n",
    "        yield j\n",
    "        i, j = i+1, j+2\n",
    "\n",
    "def partition_seq2():\n",
    "    i = 1\n",
    "    for ddelta in partition_seq1():\n",
    "        yield i\n",
    "        i += ddelta"
   ]
  },
  {
   "cell_type": "code",
   "execution_count": null,
   "metadata": {},
   "outputs": [],
   "source": [
    "import itertools # For testing\n",
    "assert tuple(itertools.islice(partition_seq1(), 13)) == (1, 3, 2, 5, 3, 7, 4, 9, 5, 11, 6, 13, 7)\n",
    "assert tuple(itertools.islice(partition_seq2(), 13)) == (1, 2, 5, 7, 12, 15, 22, 26, 35, 40, 51, 57, 70)"
   ]
  },
  {
   "cell_type": "code",
   "execution_count": null,
   "metadata": {},
   "outputs": [],
   "source": [
    "#export\n",
    "@functools.lru_cache(maxsize=1000, typed=True)\n",
    "def partition(n:int):\n",
    "    if n < 0: return 0\n",
    "    elif n == 0: return 1\n",
    "    \n",
    "    delta_gen = partition_seq2()\n",
    "    total = 0\n",
    "    \n",
    "    while True:\n",
    "        d = [next(delta_gen) for _ in range(4)]\n",
    "        \n",
    "        total += partition(n - d[0]) + partition(n - d[1])\n",
    "        total -= partition(n - d[2]) + partition(n - d[3])\n",
    "        \n",
    "        if d[3] > n: break\n",
    "    \n",
    "    return total"
   ]
  },
  {
   "cell_type": "code",
   "execution_count": null,
   "metadata": {},
   "outputs": [
    {
     "name": "stdout",
     "output_type": "stream",
     "text": [
      "11956824258286445517629485\n"
     ]
    }
   ],
   "source": [
    "assert [partition(i) for i in range(10)] == [1, 1, 2, 3, 5, 7, 11, 15, 22, 30]\n",
    "assert partition(66) == 2323520\n",
    "print(partition(666))"
   ]
  }
 ],
 "metadata": {
  "kernelspec": {
   "display_name": "Python 3",
   "language": "python",
   "name": "python3"
  }
 },
 "nbformat": 4,
 "nbformat_minor": 4
}
