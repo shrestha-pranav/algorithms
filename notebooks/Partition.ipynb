{
 "cells": [
  {
   "cell_type": "code",
   "execution_count": null,
   "metadata": {},
   "outputs": [],
   "source": [
    "#default_exp partition\n",
    "# https://www.reddit.com/r/dailyprogrammer/comments/jfcuz5/20201021_challenge_386_intermediate_partition/"
   ]
  },
  {
   "cell_type": "markdown",
   "metadata": {},
   "source": [
    "# Challenge\n",
    "\n",
    "- Compute `p(666)` (26-digit, with sum of digits=127)\n",
    "- `p(66)=2323520`\n",
    "\n",
    "# Sequence formula\n",
    "\n",
    "- `seq1 = alternate ({1,2,3,4,5,...}, {3,5,7,9,11...})`\n",
    "- `seq2`\n",
    "  - `seq2[0] = 1`\n",
    "  - `seq2[i+1] = seq2[i] + seq1[i]`\n",
    "- `seq3 = {1, 1, -1, -1, 1, 1, -1, -1, ...}`\n",
    "\n",
    "- `p(n) = \\sum_{i=1}^{n} p(n-seq2[i]) * seq3[i]`\n",
    "  - `p(n) = 0, n < 0`\n",
    "  \n",
    "`p(n) = 1, 1, 2, 3, 5, 7, 11, 15, 22, 30, 42, 56, ...`"
   ]
  },
  {
   "cell_type": "code",
   "execution_count": null,
   "metadata": {},
   "outputs": [],
   "source": [
    "#export\n",
    "import functools\n",
    "import numpy as np"
   ]
  },
  {
   "cell_type": "code",
   "execution_count": null,
   "metadata": {},
   "outputs": [],
   "source": [
    "#export\n",
    "def partition_seq1():\n",
    "    # Alternate between {1, 2, 3, 4, ...} and {3, 5, 7, 9, ...}\n",
    "    i, j = 1, 3\n",
    "    while True:\n",
    "        yield i\n",
    "        yield j\n",
    "        i, j = i+1, j+2\n",
    "\n",
    "def partition_seq2():\n",
    "    i = 1\n",
    "    for ddelta in partition_seq1():\n",
    "        yield i\n",
    "        i += ddelta"
   ]
  },
  {
   "cell_type": "code",
   "execution_count": null,
   "metadata": {},
   "outputs": [],
   "source": [
    "import itertools # For testing\n",
    "assert tuple(itertools.islice(partition_seq1(), 13)) == (1, 3, 2, 5, 3, 7, 4, 9, 5, 11, 6, 13, 7)\n",
    "assert tuple(itertools.islice(partition_seq2(), 13)) == (1, 2, 5, 7, 12, 15, 22, 26, 35, 40, 51, 57, 70)"
   ]
  },
  {
   "cell_type": "code",
   "execution_count": null,
   "metadata": {},
   "outputs": [],
   "source": [
    "#export\n",
    "@functools.lru_cache(maxsize=1000, typed=True)\n",
    "def partition(n:int):\n",
    "    if n < 0: return 0\n",
    "    elif n == 0: return 1\n",
    "\n",
    "    delta_gen = partition_seq2()\n",
    "    total = 0\n",
    "\n",
    "    while True:\n",
    "        d = [next(delta_gen) for _ in range(4)]\n",
    "\n",
    "        total += partition(n - d[0]) + partition(n - d[1])\n",
    "        total -= partition(n - d[2]) + partition(n - d[3])\n",
    "\n",
    "        if d[3] > n: break\n",
    "\n",
    "    return total"
   ]
  },
  {
   "cell_type": "code",
   "execution_count": null,
   "metadata": {},
   "outputs": [],
   "source": [
    "assert [partition(i) for i in range(10)] == [1, 1, 2, 3, 5, 7, 11, 15, 22, 30]\n",
    "assert partition(66) == 2323520\n",
    "%timeit -n1 -r1 partition(666)\n",
    "print(partition(666))"
   ]
  },
  {
   "cell_type": "code",
   "execution_count": null,
   "metadata": {},
   "outputs": [],
   "source": [
    "#export\n",
    "def sum_digits(n):\n",
    "    total = 0\n",
    "    while n > 0:\n",
    "        total += n % 10\n",
    "        n //= 10\n",
    "    return total"
   ]
  },
  {
   "cell_type": "code",
   "execution_count": null,
   "metadata": {},
   "outputs": [],
   "source": [
    "assert sum_digits(partition(666)) == 127"
   ]
  },
  {
   "cell_type": "code",
   "execution_count": null,
   "metadata": {},
   "outputs": [],
   "source": [
    "# export \n",
    "def partition_iterative(n:int) -> int:\n",
    "\n",
    "    # Calculate how many numbers we need (+ buffer of 4 numbers)\n",
    "    x = np.int(np.ceil((np.sqrt(24*n+81)-9)/6)) + 1 + 2\n",
    "\n",
    "    deltas = np.zeros(2*x, dtype=np.int64)\n",
    "    deltas[1::2] = np.arange(1, x+1)\n",
    "    deltas[0::2] = np.arange(1, 2*x, 2)\n",
    "    deltas = deltas.cumsum()\n",
    "    deltas = list(map(int, deltas))\n",
    "\n",
    "    flags = list(map(int, np.tile([1,1,-1,-1], x//2+1)))\n",
    "\n",
    "    p = [1]\n",
    "    for i in range(1, n+1):\n",
    "        total = 0\n",
    "\n",
    "        for j in range(0, 2*x, 4):\n",
    "            if deltas[j+4] > i:\n",
    "                if deltas[j+0] <= i: total += p[i - deltas[j+0]]\n",
    "                if deltas[j+1] <= i: total += p[i - deltas[j+1]]\n",
    "                if deltas[j+2] <= i: total -= p[i - deltas[j+2]]\n",
    "                if deltas[j+3] <= i: total -= p[i - deltas[j+3]]\n",
    "                break\n",
    "\n",
    "            total += \\\n",
    "                p[i - deltas[j+0]] + \\\n",
    "                p[i - deltas[j+1]] - \\\n",
    "                p[i - deltas[j+2]] - \\\n",
    "                p[i - deltas[j+3]]\n",
    "\n",
    "        p.append(total)\n",
    "\n",
    "    return p[-1]"
   ]
  },
  {
   "cell_type": "code",
   "execution_count": null,
   "metadata": {},
   "outputs": [],
   "source": [
    "# Testing timeit output\n",
    "%timeit -n1 -r1 partition_iterative(6)"
   ]
  },
  {
   "cell_type": "code",
   "execution_count": null,
   "metadata": {},
   "outputs": [
    {
     "name": "stdout",
     "output_type": "stream",
     "text": [
      "11956824258286445517629485\n",
      "6.81 ms ± 0 ns per loop (mean ± std. dev. of 1 run, 1 loop each)\n"
     ]
    }
   ],
   "source": [
    "# Test code for 666 to ensure correctness and check overflow\n",
    "solution_666 = 11956824258286445517629485\n",
    "%timeit -n1 -r1 partition_iterative(666)\n",
    "assert partition_iterative(666) == solution_666"
   ]
  },
  {
   "cell_type": "code",
   "execution_count": null,
   "metadata": {},
   "outputs": [],
   "source": [
    "#slow\n",
    "solution_666666 = 829882047250572684700899902613243782763602762816201701722599315815312910790359761069230836156205082863018110775536469855308986200073144248662915902110787189076754874498156375781560473819383193570267234294008114407862435374738896137895011798602712056367666855560838392848713564675054729329398073507378373208972509842880751022273604950120819819461244250221006793015786720300981470607613047369007107554702116361432490562419340585594835559930063181308823544907938556335147860188606415089685992917539117106588219848248270148792532079530603636993578091236835691954161244027792120896238596848636567612717269000784250428006924746617450033567240084513811817484845287957454044679781070379504435782073968802016327182672402147816498886658350521297949309218478570934795197523632953503835428280916586305632528116828229355871664575877094278615695592039186556142662054263695788587794970386821424021653983372333685780633\n",
    "assert partition_iterative(666666) == solution_666666\n",
    "%timeit -n1 -r1 print(partition_iterative(666666))"
   ]
  }
 ],
 "metadata": {
  "kernelspec": {
   "display_name": "Python 3",
   "language": "python",
   "name": "python3"
  }
 },
 "nbformat": 4,
 "nbformat_minor": 4
}
